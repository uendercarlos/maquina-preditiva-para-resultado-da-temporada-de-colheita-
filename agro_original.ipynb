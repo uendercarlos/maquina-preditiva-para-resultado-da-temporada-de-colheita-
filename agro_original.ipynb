{
  "nbformat": 4,
  "nbformat_minor": 0,
  "metadata": {
    "colab": {
      "name": "agro original.ipynb",
      "provenance": [],
      "collapsed_sections": [],
      "include_colab_link": true
    },
    "kernelspec": {
      "name": "python3",
      "display_name": "Python 3"
    }
  },
  "cells": [
    {
      "cell_type": "markdown",
      "metadata": {
        "id": "view-in-github",
        "colab_type": "text"
      },
      "source": [
        "<a href=\"https://colab.research.google.com/github/uendercarlos/maquina-preditiva-para-resultado-da-temporada-de-colheita-/blob/main/agro_original.ipynb\" target=\"_parent\"><img src=\"https://colab.research.google.com/assets/colab-badge.svg\" alt=\"Open In Colab\"/></a>"
      ]
    },
    {
      "cell_type": "markdown",
      "metadata": {
        "id": "XofdlcXRxCET"
      },
      "source": [
        "# Você sabia que aproximadamente **21% do PIB do Brasil** vem do Agronegócio?\n",
        "\n"
      ]
    },
    {
      "cell_type": "markdown",
      "metadata": {
        "id": "gR5bZ93l8UD6"
      },
      "source": [
        "![](https://media.giphy.com/media/xUOxfoRK1bYnn145tm/giphy.gif)\n"
      ]
    },
    {
      "cell_type": "markdown",
      "metadata": {
        "id": "tUQQWZS28Q_v"
      },
      "source": [
        "\n",
        "![](https://cienciadosdados.com/images/2021/ibge.png)"
      ]
    },
    {
      "cell_type": "markdown",
      "metadata": {
        "id": "dyoCtlHX784j"
      },
      "source": [
        "![](https://cienciadosdados.com/images/2021/pib_agro.png)\n",
        "\n"
      ]
    },
    {
      "cell_type": "markdown",
      "metadata": {
        "id": "sg9QERH8787f"
      },
      "source": [
        "![](https://cienciadosdados.com/images/2021/prd_agro.png)\n",
        "\n"
      ]
    },
    {
      "cell_type": "markdown",
      "metadata": {
        "id": "UmgtXzVi79KD"
      },
      "source": [
        "![](https://www.cnabrasil.org.br/assets/images/grafico3panorama_200610_191921.JPG)"
      ]
    },
    {
      "cell_type": "markdown",
      "metadata": {
        "id": "SK0SZrnR8FU_"
      },
      "source": [
        "# Onde a Ciência de Dados pode atuar no Agronegócio?"
      ]
    },
    {
      "cell_type": "markdown",
      "metadata": {
        "id": "_pGf9swuBG8a"
      },
      "source": [
        "Recentemente, observamos o conceito emergente de **agricultura inteligente** que torna a **agricultura mais eficiente e eficaz com a ajuda de algoritmos de alta precisão.**\n",
        "\n",
        "O Aprendizado de Máquina ajuda a quantificar e compreender processos intensivos de dados em ambientes operacionais agrícolas.\n",
        "\n",
        "O aprendizado de máquina está em todo o ciclo de cultivo e colheita. \n",
        "\n",
        "Começa com o plantio de uma semente no solo - desde o preparo do solo, procriação de sementes e medição da alimentação de água - e termina quando as redes neurais fazem a colheita determinando a maturação com a ajuda da visão computacional."
      ]
    },
    {
      "cell_type": "markdown",
      "metadata": {
        "id": "qLTajLtFBmpg"
      },
      "source": [
        "\n",
        "![](https://pordentrodoagro.com.br/wp-content/uploads/2020/04/blogpost_contagem_estande.gif)"
      ]
    },
    {
      "cell_type": "markdown",
      "metadata": {
        "id": "-w5i5GaYBvGP"
      },
      "source": [
        "##Casos Frequentes de uso de Ciência de Dados no Agro"
      ]
    },
    {
      "cell_type": "markdown",
      "metadata": {
        "id": "ITby3b6k-YM9"
      },
      "source": [
        "- Previsão de Demanda dos Produtos e de Insumos para produção\n",
        "- Otimização da Cadeia de Suprimentos\n",
        "- Detecção e Prevenção de Pragas\n",
        "- Otimização da lavoura\n",
        "- Inspeção Visual\n",
        "- Máquinas Autônomas\n",
        "- Gerenciamento de Água\n",
        "- Previsão da Qualidade da Colheita\n",
        "- Detecção de Ervas Daninhas"
      ]
    },
    {
      "cell_type": "markdown",
      "metadata": {
        "id": "JHQ6FGwK_nh3"
      },
      "source": [
        "![](https://www.hidrobeja.pt/video/tr.png)"
      ]
    },
    {
      "cell_type": "markdown",
      "metadata": {
        "id": "komsupKm-YdR"
      },
      "source": [
        "# Um caso especial que **a Ciência de Dados** pode ajudar para o sucesso da colheita é o gerenciamento dos Pesticidas Tóxicos\n",
        "\n",
        "\n",
        "O trabalho de um fazendeiro é um verdadeiro teste de resistência e determinação. \n",
        "\n",
        "Depois de plantadas as sementes, ele trabalha dias e noites para se certificar de que terá uma boa colheita no final da temporada. \n",
        "\n",
        "![](https://thumbs.gfycat.com/DismalShowyAgama-size_restricted.gif)\n",
        "\n",
        "Uma boa colheita é garantida por **vários fatores**, como disponibilidade de água, fertilidade do solo, proteção das colheitas contra roedores, **uso oportuno de pesticidas** e outros produtos químicos úteis.\n",
        "\n",
        "\n",
        "---\n",
        "\n",
        "\n",
        "\n",
        "\n",
        "\n",
        "\n",
        "Embora muitos desses fatores sejam difíceis de controlar, a **quantidade e a frequência dos pesticidas são algo que o agricultor pode controlar.**\n",
        "\n",
        "\n",
        "\n",
        "![](https://i.pinimg.com/originals/52/97/ba/5297badc1515dcb0004b6c6d78e8b3ae.gif) \n",
        "\n",
        "\n",
        "Os agrotóxicos também são especiais, pois protegem a lavoura com a dosagem certa. \n",
        "\n",
        "Mas, se você adicionar mais do que o necessário, eles podem estragar toda a colheita. \n",
        "\n",
        "![](https://i1.wp.com/www.cienciaedados.com/wp-content/uploads/2019/07/Aplicac%CC%A7o%CC%83es-e-Te%CC%81cnicas-de-Machine-Learning-na-Agricultura.jpg?resize=900%2C433&ssl=1)\n",
        "\n",
        "Um alto nível de pesticida pode considerar a safra morta / inadequada para consumo entre muitos resultados. \n",
        "\n"
      ]
    },
    {
      "cell_type": "markdown",
      "metadata": {
        "id": "-e0ne2sN-Yfx"
      },
      "source": [
        "#1° Problema de Negócio\n",
        "\n",
        "Precisamos **prever o resultado da temporada de colheita**, ou seja, se a cultura seria:\n",
        "\n",
        " **1. Saudável (viva)**\n",
        "\n",
        " **2. Danificada por pesticidas** ou \n",
        " \n",
        " **3. Danificada por outros motivos.**\n",
        "\n",
        "Os dados são baseados em safras colhidas por vários agricultores no final da temporada de colheita. \n",
        "\n"
      ]
    },
    {
      "cell_type": "markdown",
      "metadata": {
        "id": "oADG9v2wAsBm"
      },
      "source": [
        "# 2° Análise Exploratória dos Dados\n",
        "\n",
        "![](https://cienciadosdados.com/images/2021/ad.png)"
      ]
    },
    {
      "cell_type": "markdown",
      "metadata": {
        "id": "RvmUw4_OOmCJ"
      },
      "source": [
        "1. **ID - UniqueID**\n",
        "2.**Estimated_Insects_Count** - Contagem estimada de insetos por metro quadrado\n",
        "3. **Crop_Type** - Categoria de cultivo (0,1)\n",
        "4. **Tipo_do solo** - Categoria do solo (0,1)\n",
        "5. **Pesticide_Use_Category** - Tipo de uso de pesticidas (1- 6. Nunca, 2-Usado anteriormente, 3-Usando atualmente)\n",
        "7. **Number_Doses_Week** - Número de doses por semana\n",
        "8. **Number_Weeks_Used** - Número de semanas usadas\n",
        "9. **Number_Weeks_Quit** - Número de semanas de desistência\n",
        "10. **Temporada** - Categoria Temporada (1,2,3)\n",
        "11. **Crop_Damage** - Categoria de dano de cultivo (0 = vivo, 1 = dano devido a outras causas, 2 = dano devido a pesticidas)"
      ]
    },
    {
      "cell_type": "markdown",
      "metadata": {
        "id": "szbTT2btP4e_"
      },
      "source": [
        "![](https://i.pinimg.com/originals/c9/91/72/c99172c17b83d3c620b997858351b2a5.gif)"
      ]
    },
    {
      "cell_type": "code",
      "metadata": {
        "id": "98AnLy26lmC8",
        "colab": {
          "base_uri": "https://localhost:8080/"
        },
        "outputId": "121931ef-a102-48d8-aa9a-df4e553d1413"
      },
      "source": [
        "!pip install catboost"
      ],
      "execution_count": null,
      "outputs": [
        {
          "output_type": "stream",
          "text": [
            "Requirement already satisfied: catboost in /usr/local/lib/python3.7/dist-packages (0.24.4)\n",
            "Requirement already satisfied: graphviz in /usr/local/lib/python3.7/dist-packages (from catboost) (0.10.1)\n",
            "Requirement already satisfied: numpy>=1.16.0 in /usr/local/lib/python3.7/dist-packages (from catboost) (1.19.5)\n",
            "Requirement already satisfied: scipy in /usr/local/lib/python3.7/dist-packages (from catboost) (1.4.1)\n",
            "Requirement already satisfied: matplotlib in /usr/local/lib/python3.7/dist-packages (from catboost) (3.2.2)\n",
            "Requirement already satisfied: six in /usr/local/lib/python3.7/dist-packages (from catboost) (1.15.0)\n",
            "Requirement already satisfied: plotly in /usr/local/lib/python3.7/dist-packages (from catboost) (4.4.1)\n",
            "Requirement already satisfied: pandas>=0.24.0 in /usr/local/lib/python3.7/dist-packages (from catboost) (1.1.5)\n",
            "Requirement already satisfied: python-dateutil>=2.1 in /usr/local/lib/python3.7/dist-packages (from matplotlib->catboost) (2.8.1)\n",
            "Requirement already satisfied: pyparsing!=2.0.4,!=2.1.2,!=2.1.6,>=2.0.1 in /usr/local/lib/python3.7/dist-packages (from matplotlib->catboost) (2.4.7)\n",
            "Requirement already satisfied: kiwisolver>=1.0.1 in /usr/local/lib/python3.7/dist-packages (from matplotlib->catboost) (1.3.1)\n",
            "Requirement already satisfied: cycler>=0.10 in /usr/local/lib/python3.7/dist-packages (from matplotlib->catboost) (0.10.0)\n",
            "Requirement already satisfied: retrying>=1.3.3 in /usr/local/lib/python3.7/dist-packages (from plotly->catboost) (1.3.3)\n",
            "Requirement already satisfied: pytz>=2017.2 in /usr/local/lib/python3.7/dist-packages (from pandas>=0.24.0->catboost) (2018.9)\n"
          ],
          "name": "stdout"
        }
      ]
    },
    {
      "cell_type": "code",
      "metadata": {
        "id": "vSlCYb_SbZid"
      },
      "source": [
        "#Importação de Pacotes\n",
        "import pandas as pd\n",
        "import numpy as np\n",
        "import seaborn as sns\n",
        "from sklearn.model_selection import train_test_split\n",
        "from catboost import CatBoostClassifier\n",
        "import warnings\n",
        "warnings.filterwarnings(\"ignore\")\n"
      ],
      "execution_count": null,
      "outputs": []
    },
    {
      "cell_type": "code",
      "metadata": {
        "id": "IskUvph-b3YS"
      },
      "source": [
        "# Conexão com os Dados\n",
        "train_d=pd.read_csv('/content/treino.csv')"
      ],
      "execution_count": null,
      "outputs": []
    },
    {
      "cell_type": "code",
      "metadata": {
        "id": "JMA40cFVb9kD",
        "colab": {
          "base_uri": "https://localhost:8080/",
          "height": 367
        },
        "outputId": "39453017-a3a3-42cb-916c-48091142fd87"
      },
      "source": [
        "# Visualiza as 10 primeiras linhas\n",
        "train_d.head(10)"
      ],
      "execution_count": null,
      "outputs": [
        {
          "output_type": "execute_result",
          "data": {
            "text/html": [
              "<div>\n",
              "<style scoped>\n",
              "    .dataframe tbody tr th:only-of-type {\n",
              "        vertical-align: middle;\n",
              "    }\n",
              "\n",
              "    .dataframe tbody tr th {\n",
              "        vertical-align: top;\n",
              "    }\n",
              "\n",
              "    .dataframe thead th {\n",
              "        text-align: right;\n",
              "    }\n",
              "</style>\n",
              "<table border=\"1\" class=\"dataframe\">\n",
              "  <thead>\n",
              "    <tr style=\"text-align: right;\">\n",
              "      <th></th>\n",
              "      <th>ID</th>\n",
              "      <th>Estimated_Insects_Count</th>\n",
              "      <th>Crop_Type</th>\n",
              "      <th>Soil_Type</th>\n",
              "      <th>Pesticide_Use_Category</th>\n",
              "      <th>Number_Doses_Week</th>\n",
              "      <th>Number_Weeks_Used</th>\n",
              "      <th>Number_Weeks_Quit</th>\n",
              "      <th>Season</th>\n",
              "      <th>Crop_Damage</th>\n",
              "    </tr>\n",
              "  </thead>\n",
              "  <tbody>\n",
              "    <tr>\n",
              "      <th>0</th>\n",
              "      <td>F00000001</td>\n",
              "      <td>188</td>\n",
              "      <td>1</td>\n",
              "      <td>0</td>\n",
              "      <td>1</td>\n",
              "      <td>0</td>\n",
              "      <td>0.0</td>\n",
              "      <td>0</td>\n",
              "      <td>1</td>\n",
              "      <td>0</td>\n",
              "    </tr>\n",
              "    <tr>\n",
              "      <th>1</th>\n",
              "      <td>F00000003</td>\n",
              "      <td>209</td>\n",
              "      <td>1</td>\n",
              "      <td>0</td>\n",
              "      <td>1</td>\n",
              "      <td>0</td>\n",
              "      <td>0.0</td>\n",
              "      <td>0</td>\n",
              "      <td>2</td>\n",
              "      <td>1</td>\n",
              "    </tr>\n",
              "    <tr>\n",
              "      <th>2</th>\n",
              "      <td>F00000004</td>\n",
              "      <td>257</td>\n",
              "      <td>1</td>\n",
              "      <td>0</td>\n",
              "      <td>1</td>\n",
              "      <td>0</td>\n",
              "      <td>0.0</td>\n",
              "      <td>0</td>\n",
              "      <td>2</td>\n",
              "      <td>1</td>\n",
              "    </tr>\n",
              "    <tr>\n",
              "      <th>3</th>\n",
              "      <td>F00000005</td>\n",
              "      <td>257</td>\n",
              "      <td>1</td>\n",
              "      <td>1</td>\n",
              "      <td>1</td>\n",
              "      <td>0</td>\n",
              "      <td>0.0</td>\n",
              "      <td>0</td>\n",
              "      <td>2</td>\n",
              "      <td>1</td>\n",
              "    </tr>\n",
              "    <tr>\n",
              "      <th>4</th>\n",
              "      <td>F00000006</td>\n",
              "      <td>342</td>\n",
              "      <td>1</td>\n",
              "      <td>0</td>\n",
              "      <td>1</td>\n",
              "      <td>0</td>\n",
              "      <td>0.0</td>\n",
              "      <td>0</td>\n",
              "      <td>2</td>\n",
              "      <td>1</td>\n",
              "    </tr>\n",
              "    <tr>\n",
              "      <th>5</th>\n",
              "      <td>F00000008</td>\n",
              "      <td>448</td>\n",
              "      <td>0</td>\n",
              "      <td>1</td>\n",
              "      <td>1</td>\n",
              "      <td>0</td>\n",
              "      <td>NaN</td>\n",
              "      <td>0</td>\n",
              "      <td>2</td>\n",
              "      <td>1</td>\n",
              "    </tr>\n",
              "    <tr>\n",
              "      <th>6</th>\n",
              "      <td>F00000009</td>\n",
              "      <td>448</td>\n",
              "      <td>0</td>\n",
              "      <td>1</td>\n",
              "      <td>1</td>\n",
              "      <td>0</td>\n",
              "      <td>NaN</td>\n",
              "      <td>0</td>\n",
              "      <td>2</td>\n",
              "      <td>1</td>\n",
              "    </tr>\n",
              "    <tr>\n",
              "      <th>7</th>\n",
              "      <td>F00000010</td>\n",
              "      <td>577</td>\n",
              "      <td>1</td>\n",
              "      <td>0</td>\n",
              "      <td>1</td>\n",
              "      <td>0</td>\n",
              "      <td>0.0</td>\n",
              "      <td>0</td>\n",
              "      <td>1</td>\n",
              "      <td>2</td>\n",
              "    </tr>\n",
              "    <tr>\n",
              "      <th>8</th>\n",
              "      <td>F00000012</td>\n",
              "      <td>731</td>\n",
              "      <td>0</td>\n",
              "      <td>0</td>\n",
              "      <td>1</td>\n",
              "      <td>0</td>\n",
              "      <td>0.0</td>\n",
              "      <td>0</td>\n",
              "      <td>2</td>\n",
              "      <td>0</td>\n",
              "    </tr>\n",
              "    <tr>\n",
              "      <th>9</th>\n",
              "      <td>F00000020</td>\n",
              "      <td>1132</td>\n",
              "      <td>1</td>\n",
              "      <td>0</td>\n",
              "      <td>1</td>\n",
              "      <td>0</td>\n",
              "      <td>0.0</td>\n",
              "      <td>0</td>\n",
              "      <td>1</td>\n",
              "      <td>2</td>\n",
              "    </tr>\n",
              "  </tbody>\n",
              "</table>\n",
              "</div>"
            ],
            "text/plain": [
              "          ID  Estimated_Insects_Count  ...  Season  Crop_Damage\n",
              "0  F00000001                      188  ...       1            0\n",
              "1  F00000003                      209  ...       2            1\n",
              "2  F00000004                      257  ...       2            1\n",
              "3  F00000005                      257  ...       2            1\n",
              "4  F00000006                      342  ...       2            1\n",
              "5  F00000008                      448  ...       2            1\n",
              "6  F00000009                      448  ...       2            1\n",
              "7  F00000010                      577  ...       1            2\n",
              "8  F00000012                      731  ...       2            0\n",
              "9  F00000020                     1132  ...       1            2\n",
              "\n",
              "[10 rows x 10 columns]"
            ]
          },
          "metadata": {
            "tags": []
          },
          "execution_count": 20
        }
      ]
    },
    {
      "cell_type": "code",
      "metadata": {
        "colab": {
          "base_uri": "https://localhost:8080/"
        },
        "id": "_0xHXakkb9m3",
        "outputId": "386de23b-95a8-422c-bc77-0bfa191ca18c"
      },
      "source": [
        "# Informações dos atributos do Dataset\n",
        "train_d.info()"
      ],
      "execution_count": null,
      "outputs": [
        {
          "output_type": "stream",
          "text": [
            "<class 'pandas.core.frame.DataFrame'>\n",
            "RangeIndex: 88858 entries, 0 to 88857\n",
            "Data columns (total 10 columns):\n",
            " #   Column                   Non-Null Count  Dtype  \n",
            "---  ------                   --------------  -----  \n",
            " 0   ID                       88858 non-null  object \n",
            " 1   Estimated_Insects_Count  88858 non-null  int64  \n",
            " 2   Crop_Type                88858 non-null  int64  \n",
            " 3   Soil_Type                88858 non-null  int64  \n",
            " 4   Pesticide_Use_Category   88858 non-null  int64  \n",
            " 5   Number_Doses_Week        88858 non-null  int64  \n",
            " 6   Number_Weeks_Used        79858 non-null  float64\n",
            " 7   Number_Weeks_Quit        88858 non-null  int64  \n",
            " 8   Season                   88858 non-null  int64  \n",
            " 9   Crop_Damage              88858 non-null  int64  \n",
            "dtypes: float64(1), int64(8), object(1)\n",
            "memory usage: 6.8+ MB\n"
          ],
          "name": "stdout"
        }
      ]
    },
    {
      "cell_type": "code",
      "metadata": {
        "colab": {
          "base_uri": "https://localhost:8080/",
          "height": 280
        },
        "id": "U9NuS8lwb9pv",
        "outputId": "75b6b91a-99ab-421c-ec6a-f4fce438e9b4"
      },
      "source": [
        "# Explorando a Variável resposta\n",
        "train_d['Crop_Damage'].value_counts()\n",
        "ax = sns.countplot(x=train_d[\"Crop_Damage\"])\n"
      ],
      "execution_count": null,
      "outputs": [
        {
          "output_type": "display_data",
          "data": {
            "image/png": "[encoded data removed]",
            "text/plain": [
              "<Figure size 432x288 with 1 Axes>"
            ]
          },
          "metadata": {
            "tags": [],
            "needs_background": "light"
          }
        }
      ]
    },
    {
      "cell_type": "code",
      "metadata": {
        "colab": {
          "base_uri": "https://localhost:8080/",
          "height": 279
        },
        "id": "hYG9boxdikpm",
        "outputId": "4ab622e7-51f3-4cfe-c3aa-9be211da5f1c"
      },
      "source": [
        "# Explorando a Variável\n",
        "train_d['Season'].value_counts()\n",
        "ax = sns.countplot(x=train_d[\"Season\"])"
      ],
      "execution_count": null,
      "outputs": [
        {
          "output_type": "display_data",
          "data": {
            "image/png": "[encoded data removed]",
            "text/plain": [
              "<Figure size 432x288 with 1 Axes>"
            ]
          },
          "metadata": {
            "tags": [],
            "needs_background": "light"
          }
        }
      ]
    },
    {
      "cell_type": "code",
      "metadata": {
        "colab": {
          "base_uri": "https://localhost:8080/",
          "height": 280
        },
        "id": "H6y_XfAbitgg",
        "outputId": "ba4eb515-edaf-4c23-d431-691a39f20dde"
      },
      "source": [
        "# Explorando a Variável\n",
        "train_d['Pesticide_Use_Category'].value_counts()\n",
        "ax = sns.countplot(x=train_d[\"Pesticide_Use_Category\"])"
      ],
      "execution_count": null,
      "outputs": [
        {
          "output_type": "display_data",
          "data": {
            "image/png": "[encoded data removed]",
            "text/plain": [
              "<Figure size 432x288 with 1 Axes>"
            ]
          },
          "metadata": {
            "tags": [],
            "needs_background": "light"
          }
        }
      ]
    },
    {
      "cell_type": "code",
      "metadata": {
        "colab": {
          "base_uri": "https://localhost:8080/",
          "height": 280
        },
        "id": "sKY1bkn7i17A",
        "outputId": "6879e78c-f17c-43c9-a235-e2b5655636c5"
      },
      "source": [
        "# Explorando a Variável\n",
        "train_d['Crop_Type'].value_counts()\n",
        "ax = sns.countplot(x=train_d[\"Crop_Type\"])"
      ],
      "execution_count": null,
      "outputs": [
        {
          "output_type": "display_data",
          "data": {
            "image/png": "[encoded data removed]",
            "text/plain": [
              "<Figure size 432x288 with 1 Axes>"
            ]
          },
          "metadata": {
            "tags": [],
            "needs_background": "light"
          }
        }
      ]
    },
    {
      "cell_type": "code",
      "metadata": {
        "colab": {
          "base_uri": "https://localhost:8080/",
          "height": 282
        },
        "id": "hGNnxFBgi5tU",
        "outputId": "5c2e3e95-7155-43fe-82bc-ccc3aab43295"
      },
      "source": [
        "# Explorando a Variável\n",
        "train_d['Soil_Type'].value_counts()\n",
        "ax = sns.countplot(x=train_d[\"Soil_Type\"])"
      ],
      "execution_count": null,
      "outputs": [
        {
          "output_type": "display_data",
          "data": {
            "image/png": "[encoded data removed]",
            "text/plain": [
              "<Figure size 432x288 with 1 Axes>"
            ]
          },
          "metadata": {
            "tags": [],
            "needs_background": "light"
          }
        }
      ]
    },
    {
      "cell_type": "code",
      "metadata": {
        "colab": {
          "base_uri": "https://localhost:8080/"
        },
        "id": "EnayAnwsb9sY",
        "outputId": "e56086ad-823d-4bcf-e85d-7d16689d533a"
      },
      "source": [
        "#Verificando valores nulos\n",
        "train_d.isnull().sum()"
      ],
      "execution_count": null,
      "outputs": [
        {
          "output_type": "execute_result",
          "data": {
            "text/plain": [
              "ID                            0\n",
              "Estimated_Insects_Count       0\n",
              "Crop_Type                     0\n",
              "Soil_Type                     0\n",
              "Pesticide_Use_Category        0\n",
              "Number_Doses_Week             0\n",
              "Number_Weeks_Used          9000\n",
              "Number_Weeks_Quit             0\n",
              "Season                        0\n",
              "Crop_Damage                   0\n",
              "dtype: int64"
            ]
          },
          "metadata": {
            "tags": []
          },
          "execution_count": 21
        }
      ]
    },
    {
      "cell_type": "code",
      "metadata": {
        "colab": {
          "base_uri": "https://localhost:8080/"
        },
        "id": "JU1V0id5jfKc",
        "outputId": "651d6009-cdf9-4f60-fff3-43a6c6f66c93"
      },
      "source": [
        "#Verifica valores duplicados\n",
        "train_d.duplicated().sum()"
      ],
      "execution_count": null,
      "outputs": [
        {
          "output_type": "execute_result",
          "data": {
            "text/plain": [
              "0"
            ]
          },
          "metadata": {
            "tags": []
          },
          "execution_count": 22
        }
      ]
    },
    {
      "cell_type": "code",
      "metadata": {
        "id": "PwJzk3MoeV7A",
        "colab": {
          "base_uri": "https://localhost:8080/",
          "height": 280
        },
        "outputId": "3a041227-b5c1-4ad7-ebdd-049644adb1dc"
      },
      "source": [
        "#Estatística descritiva\n",
        "train_d['Estimated_Insects_Count'].describe()\n",
        "ax = sns.boxplot(x=train_d[\"Estimated_Insects_Count\"])\n"
      ],
      "execution_count": null,
      "outputs": [
        {
          "output_type": "display_data",
          "data": {
            "image/png": "[encoded data removed]",
            "text/plain": [
              "<Figure size 432x288 with 1 Axes>"
            ]
          },
          "metadata": {
            "tags": [],
            "needs_background": "light"
          }
        }
      ]
    },
    {
      "cell_type": "code",
      "metadata": {
        "colab": {
          "base_uri": "https://localhost:8080/",
          "height": 280
        },
        "id": "JFgtywI7fd3L",
        "outputId": "7b1d0cf4-4677-48c9-8738-a99b8d752907"
      },
      "source": [
        "#Estatística descritiva\n",
        "train_d['Number_Doses_Week'].describe()\n",
        "ax = sns.boxplot(x=train_d[\"Number_Doses_Week\"])"
      ],
      "execution_count": null,
      "outputs": [
        {
          "output_type": "display_data",
          "data": {
            "image/png": "[encoded data removed]",
            "text/plain": [
              "<Figure size 432x288 with 1 Axes>"
            ]
          },
          "metadata": {
            "tags": [],
            "needs_background": "light"
          }
        }
      ]
    },
    {
      "cell_type": "code",
      "metadata": {
        "colab": {
          "base_uri": "https://localhost:8080/",
          "height": 280
        },
        "id": "oYAvXYVWfsH8",
        "outputId": "ab088425-84c4-4bcb-80ea-eb3f1ad889a9"
      },
      "source": [
        "#Estatística descritiva\n",
        "train_d['Number_Weeks_Used'].describe()\n",
        "ax = sns.boxplot(x=train_d[\"Number_Weeks_Used\"])\n"
      ],
      "execution_count": null,
      "outputs": [
        {
          "output_type": "display_data",
          "data": {
            "image/png": "[encoded data removed]",
            "text/plain": [
              "<Figure size 432x288 with 1 Axes>"
            ]
          },
          "metadata": {
            "tags": [],
            "needs_background": "light"
          }
        }
      ]
    },
    {
      "cell_type": "code",
      "metadata": {
        "colab": {
          "base_uri": "https://localhost:8080/",
          "height": 280
        },
        "id": "lXnA4qz9fnRT",
        "outputId": "c0beae5e-8cb8-4930-804c-695d828c777e"
      },
      "source": [
        "#Estatística descritiva\n",
        "train_d['Number_Weeks_Quit'].describe()\n",
        "ax = sns.histplot(x=train_d[\"Number_Weeks_Quit\"], bins=5)"
      ],
      "execution_count": null,
      "outputs": [
        {
          "output_type": "display_data",
          "data": {
            "image/png": "[encoded data removed]",
            "text/plain": [
              "<Figure size 432x288 with 1 Axes>"
            ]
          },
          "metadata": {
            "tags": [],
            "needs_background": "light"
          }
        }
      ]
    },
    {
      "cell_type": "markdown",
      "metadata": {
        "id": "y1kGuj-rAsEG"
      },
      "source": [
        "# 3° Pré-Processamento dos Dados"
      ]
    },
    {
      "cell_type": "code",
      "metadata": {
        "id": "dZNc3MP6kKxF",
        "colab": {
          "base_uri": "https://localhost:8080/",
          "height": 217
        },
        "outputId": "356ae3a7-c0c4-4701-e837-31a12877ae0c"
      },
      "source": [
        "#Excluir a variável ID pois ela não é explicativa\n",
        "train_d.drop('ID',axis=1,inplace=True)\n",
        "train_d.head()"
      ],
      "execution_count": null,
      "outputs": [
        {
          "output_type": "execute_result",
          "data": {
            "text/html": [
              "<div>\n",
              "<style scoped>\n",
              "    .dataframe tbody tr th:only-of-type {\n",
              "        vertical-align: middle;\n",
              "    }\n",
              "\n",
              "    .dataframe tbody tr th {\n",
              "        vertical-align: top;\n",
              "    }\n",
              "\n",
              "    .dataframe thead th {\n",
              "        text-align: right;\n",
              "    }\n",
              "</style>\n",
              "<table border=\"1\" class=\"dataframe\">\n",
              "  <thead>\n",
              "    <tr style=\"text-align: right;\">\n",
              "      <th></th>\n",
              "      <th>Estimated_Insects_Count</th>\n",
              "      <th>Crop_Type</th>\n",
              "      <th>Soil_Type</th>\n",
              "      <th>Pesticide_Use_Category</th>\n",
              "      <th>Number_Doses_Week</th>\n",
              "      <th>Number_Weeks_Used</th>\n",
              "      <th>Number_Weeks_Quit</th>\n",
              "      <th>Season</th>\n",
              "      <th>Crop_Damage</th>\n",
              "    </tr>\n",
              "  </thead>\n",
              "  <tbody>\n",
              "    <tr>\n",
              "      <th>0</th>\n",
              "      <td>188</td>\n",
              "      <td>1</td>\n",
              "      <td>0</td>\n",
              "      <td>1</td>\n",
              "      <td>0</td>\n",
              "      <td>0.0</td>\n",
              "      <td>0</td>\n",
              "      <td>1</td>\n",
              "      <td>0</td>\n",
              "    </tr>\n",
              "    <tr>\n",
              "      <th>1</th>\n",
              "      <td>209</td>\n",
              "      <td>1</td>\n",
              "      <td>0</td>\n",
              "      <td>1</td>\n",
              "      <td>0</td>\n",
              "      <td>0.0</td>\n",
              "      <td>0</td>\n",
              "      <td>2</td>\n",
              "      <td>1</td>\n",
              "    </tr>\n",
              "    <tr>\n",
              "      <th>2</th>\n",
              "      <td>257</td>\n",
              "      <td>1</td>\n",
              "      <td>0</td>\n",
              "      <td>1</td>\n",
              "      <td>0</td>\n",
              "      <td>0.0</td>\n",
              "      <td>0</td>\n",
              "      <td>2</td>\n",
              "      <td>1</td>\n",
              "    </tr>\n",
              "    <tr>\n",
              "      <th>3</th>\n",
              "      <td>257</td>\n",
              "      <td>1</td>\n",
              "      <td>1</td>\n",
              "      <td>1</td>\n",
              "      <td>0</td>\n",
              "      <td>0.0</td>\n",
              "      <td>0</td>\n",
              "      <td>2</td>\n",
              "      <td>1</td>\n",
              "    </tr>\n",
              "    <tr>\n",
              "      <th>4</th>\n",
              "      <td>342</td>\n",
              "      <td>1</td>\n",
              "      <td>0</td>\n",
              "      <td>1</td>\n",
              "      <td>0</td>\n",
              "      <td>0.0</td>\n",
              "      <td>0</td>\n",
              "      <td>2</td>\n",
              "      <td>1</td>\n",
              "    </tr>\n",
              "  </tbody>\n",
              "</table>\n",
              "</div>"
            ],
            "text/plain": [
              "   Estimated_Insects_Count  Crop_Type  ...  Season  Crop_Damage\n",
              "0                      188          1  ...       1            0\n",
              "1                      209          1  ...       2            1\n",
              "2                      257          1  ...       2            1\n",
              "3                      257          1  ...       2            1\n",
              "4                      342          1  ...       2            1\n",
              "\n",
              "[5 rows x 9 columns]"
            ]
          },
          "metadata": {
            "tags": []
          },
          "execution_count": 6
        }
      ]
    },
    {
      "cell_type": "code",
      "metadata": {
        "id": "f-IH1d2tjOoU",
        "colab": {
          "base_uri": "https://localhost:8080/"
        },
        "outputId": "57e5bc28-193d-4ee0-cdee-9e323959b1d0"
      },
      "source": [
        "#Exclusão dos Valores ausentes\n",
        "train_d.dropna(inplace=True)\n",
        "train_d.isnull().sum()"
      ],
      "execution_count": null,
      "outputs": [
        {
          "output_type": "execute_result",
          "data": {
            "text/plain": [
              "Estimated_Insects_Count    0\n",
              "Crop_Type                  0\n",
              "Soil_Type                  0\n",
              "Pesticide_Use_Category     0\n",
              "Number_Doses_Week          0\n",
              "Number_Weeks_Used          0\n",
              "Number_Weeks_Quit          0\n",
              "Season                     0\n",
              "Crop_Damage                0\n",
              "dtype: int64"
            ]
          },
          "metadata": {
            "tags": []
          },
          "execution_count": 7
        }
      ]
    },
    {
      "cell_type": "code",
      "metadata": {
        "id": "cpyxFMsSp4YH",
        "colab": {
          "base_uri": "https://localhost:8080/",
          "height": 197
        },
        "outputId": "dab67457-c90e-4671-fe5a-de701894c313"
      },
      "source": [
        "train_d.head()"
      ],
      "execution_count": null,
      "outputs": [
        {
          "output_type": "execute_result",
          "data": {
            "text/html": [
              "<div>\n",
              "<style scoped>\n",
              "    .dataframe tbody tr th:only-of-type {\n",
              "        vertical-align: middle;\n",
              "    }\n",
              "\n",
              "    .dataframe tbody tr th {\n",
              "        vertical-align: top;\n",
              "    }\n",
              "\n",
              "    .dataframe thead th {\n",
              "        text-align: right;\n",
              "    }\n",
              "</style>\n",
              "<table border=\"1\" class=\"dataframe\">\n",
              "  <thead>\n",
              "    <tr style=\"text-align: right;\">\n",
              "      <th></th>\n",
              "      <th>Estimated_Insects_Count</th>\n",
              "      <th>Number_Doses_Week</th>\n",
              "      <th>Number_Weeks_Used</th>\n",
              "      <th>Number_Weeks_Quit</th>\n",
              "    </tr>\n",
              "  </thead>\n",
              "  <tbody>\n",
              "    <tr>\n",
              "      <th>0</th>\n",
              "      <td>188</td>\n",
              "      <td>0</td>\n",
              "      <td>0.0</td>\n",
              "      <td>0</td>\n",
              "    </tr>\n",
              "    <tr>\n",
              "      <th>1</th>\n",
              "      <td>209</td>\n",
              "      <td>0</td>\n",
              "      <td>0.0</td>\n",
              "      <td>0</td>\n",
              "    </tr>\n",
              "    <tr>\n",
              "      <th>2</th>\n",
              "      <td>257</td>\n",
              "      <td>0</td>\n",
              "      <td>0.0</td>\n",
              "      <td>0</td>\n",
              "    </tr>\n",
              "    <tr>\n",
              "      <th>3</th>\n",
              "      <td>257</td>\n",
              "      <td>0</td>\n",
              "      <td>0.0</td>\n",
              "      <td>0</td>\n",
              "    </tr>\n",
              "    <tr>\n",
              "      <th>4</th>\n",
              "      <td>342</td>\n",
              "      <td>0</td>\n",
              "      <td>0.0</td>\n",
              "      <td>0</td>\n",
              "    </tr>\n",
              "  </tbody>\n",
              "</table>\n",
              "</div>"
            ],
            "text/plain": [
              "   Estimated_Insects_Count  ...  Number_Weeks_Quit\n",
              "0                      188  ...                  0\n",
              "1                      209  ...                  0\n",
              "2                      257  ...                  0\n",
              "3                      257  ...                  0\n",
              "4                      342  ...                  0\n",
              "\n",
              "[5 rows x 4 columns]"
            ]
          },
          "metadata": {
            "tags": []
          },
          "execution_count": 30
        }
      ]
    },
    {
      "cell_type": "code",
      "metadata": {
        "id": "U_BjxOWUkKr0"
      },
      "source": [
        "# One-Hot Encoder - Criação de Variáveis Numéricas\n",
        "for col in ['Crop_Type','Soil_Type','Pesticide_Use_Category','Season']:\n",
        "  train_d = pd.get_dummies(train_d, columns=[col])"
      ],
      "execution_count": null,
      "outputs": []
    },
    {
      "cell_type": "code",
      "metadata": {
        "id": "Oo8LL66wkKuV",
        "colab": {
          "base_uri": "https://localhost:8080/",
          "height": 127
        },
        "outputId": "136f6ed4-97e6-4acc-9446-2c5ed2050a67"
      },
      "source": [
        "train_d.head(2)\n",
        "#train_d.shape"
      ],
      "execution_count": null,
      "outputs": [
        {
          "output_type": "execute_result",
          "data": {
            "text/html": [
              "<div>\n",
              "<style scoped>\n",
              "    .dataframe tbody tr th:only-of-type {\n",
              "        vertical-align: middle;\n",
              "    }\n",
              "\n",
              "    .dataframe tbody tr th {\n",
              "        vertical-align: top;\n",
              "    }\n",
              "\n",
              "    .dataframe thead th {\n",
              "        text-align: right;\n",
              "    }\n",
              "</style>\n",
              "<table border=\"1\" class=\"dataframe\">\n",
              "  <thead>\n",
              "    <tr style=\"text-align: right;\">\n",
              "      <th></th>\n",
              "      <th>Estimated_Insects_Count</th>\n",
              "      <th>Number_Doses_Week</th>\n",
              "      <th>Number_Weeks_Used</th>\n",
              "      <th>Number_Weeks_Quit</th>\n",
              "      <th>Crop_Damage</th>\n",
              "      <th>Crop_Type_0</th>\n",
              "      <th>Crop_Type_1</th>\n",
              "      <th>Soil_Type_0</th>\n",
              "      <th>Soil_Type_1</th>\n",
              "      <th>Pesticide_Use_Category_1</th>\n",
              "      <th>Pesticide_Use_Category_2</th>\n",
              "      <th>Pesticide_Use_Category_3</th>\n",
              "      <th>Season_1</th>\n",
              "      <th>Season_2</th>\n",
              "      <th>Season_3</th>\n",
              "    </tr>\n",
              "  </thead>\n",
              "  <tbody>\n",
              "    <tr>\n",
              "      <th>0</th>\n",
              "      <td>188</td>\n",
              "      <td>0</td>\n",
              "      <td>0.0</td>\n",
              "      <td>0</td>\n",
              "      <td>0</td>\n",
              "      <td>0</td>\n",
              "      <td>1</td>\n",
              "      <td>1</td>\n",
              "      <td>0</td>\n",
              "      <td>1</td>\n",
              "      <td>0</td>\n",
              "      <td>0</td>\n",
              "      <td>1</td>\n",
              "      <td>0</td>\n",
              "      <td>0</td>\n",
              "    </tr>\n",
              "    <tr>\n",
              "      <th>1</th>\n",
              "      <td>209</td>\n",
              "      <td>0</td>\n",
              "      <td>0.0</td>\n",
              "      <td>0</td>\n",
              "      <td>1</td>\n",
              "      <td>0</td>\n",
              "      <td>1</td>\n",
              "      <td>1</td>\n",
              "      <td>0</td>\n",
              "      <td>1</td>\n",
              "      <td>0</td>\n",
              "      <td>0</td>\n",
              "      <td>0</td>\n",
              "      <td>1</td>\n",
              "      <td>0</td>\n",
              "    </tr>\n",
              "  </tbody>\n",
              "</table>\n",
              "</div>"
            ],
            "text/plain": [
              "   Estimated_Insects_Count  Number_Doses_Week  ...  Season_2  Season_3\n",
              "0                      188                  0  ...         0         0\n",
              "1                      209                  0  ...         1         0\n",
              "\n",
              "[2 rows x 15 columns]"
            ]
          },
          "metadata": {
            "tags": []
          },
          "execution_count": 42
        }
      ]
    },
    {
      "cell_type": "code",
      "metadata": {
        "id": "r3br5J2jlzVb"
      },
      "source": [
        "# Split dataset\n",
        "X = train_d.drop(['Number_Weeks_Used'], axis=1)\n",
        "y = train_d['Number_Weeks_Used'].values.reshape(-1,1)\n",
        "\n",
        "# Amostragem dos dados de treino e de teste\n",
        "X_train, X_test, y_train, y_test = train_test_split(X, y, test_size=0.2, random_state=7)"
      ],
      "execution_count": null,
      "outputs": []
    },
    {
      "cell_type": "markdown",
      "metadata": {
        "id": "hmbaEWpgAsHO"
      },
      "source": [
        "#4° Construção das Máquinas Preditivas"
      ]
    },
    {
      "cell_type": "code",
      "metadata": {
        "id": "JpIhGumgleKI"
      },
      "source": [
        "# Instalação do Catboost\n",
        "!pip install catboost"
      ],
      "execution_count": null,
      "outputs": []
    },
    {
      "cell_type": "code",
      "metadata": {
        "id": "vmBb1T1IkK2p"
      },
      "source": [
        "# Treinamento da Máquina Preditiva\n",
        "Maquina_Preditiva = CatBoostClassifier(n_estimators=1000, max_depth=4, random_state=7)\n",
        "Maquina_Preditiva.fit(X_train, y_train)\n",
        "predicoes = Maquina_Preditiva.predict_proba(X_test)"
      ],
      "execution_count": null,
      "outputs": []
    },
    {
      "cell_type": "markdown",
      "metadata": {
        "id": "8s2fqlPPAsJT"
      },
      "source": [
        "#5° Avaliação das Máquinas Preditivas "
      ]
    },
    {
      "cell_type": "code",
      "metadata": {
        "id": "iZQHt85Amjft",
        "colab": {
          "base_uri": "https://localhost:8080/"
        },
        "outputId": "4143110c-e9a8-4abc-9f5f-f27738f1a22b"
      },
      "source": [
        "# Score do modelo nos dados de teste\n",
        "result = Maquina_Preditiva.score(X_test, y_test)\n",
        "print(\"Acurácia nos Dados de Teste: %.3f%%\" % (result * 100.0))\n",
        "\n"
      ],
      "execution_count": null,
      "outputs": [
        {
          "output_type": "stream",
          "text": [
            "Acurácia nos Dados de Teste: 3.304%\n"
          ],
          "name": "stdout"
        }
      ]
    },
    {
      "cell_type": "code",
      "metadata": {
        "colab": {
          "base_uri": "https://localhost:8080/"
        },
        "id": "0j8_9zt3onOh",
        "outputId": "f3d97d8b-b29e-4c52-e2c0-fe7007c3ac22"
      },
      "source": [
        "# Determinar as Variáveis Mais Importantes\n",
        "Maquina_Preditiva.feature_importances_"
      ],
      "execution_count": null,
      "outputs": [
        {
          "output_type": "execute_result",
          "data": {
            "text/plain": [
              "array([21.36537105, 18.29694341, 25.21854051, 11.53187023,  1.84298933,\n",
              "        1.66553058,  0.92037955,  0.57402227,  0.60262598,  9.50784327,\n",
              "        6.34740699,  0.78616794,  0.56192349,  0.7783854 ])"
            ]
          },
          "metadata": {
            "tags": []
          },
          "execution_count": 16
        }
      ]
    },
    {
      "cell_type": "code",
      "metadata": {
        "id": "k1gCqIQCpLiY",
        "colab": {
          "base_uri": "https://localhost:8080/"
        },
        "outputId": "b443c366-72e7-43b7-ea60-4675cfa9e3b4"
      },
      "source": [
        "train_d.info()"
      ],
      "execution_count": null,
      "outputs": [
        {
          "output_type": "stream",
          "text": [
            "<class 'pandas.core.frame.DataFrame'>\n",
            "Int64Index: 79858 entries, 0 to 88857\n",
            "Data columns (total 15 columns):\n",
            " #   Column                    Non-Null Count  Dtype  \n",
            "---  ------                    --------------  -----  \n",
            " 0   Estimated_Insects_Count   79858 non-null  int64  \n",
            " 1   Number_Doses_Week         79858 non-null  int64  \n",
            " 2   Number_Weeks_Used         79858 non-null  float64\n",
            " 3   Number_Weeks_Quit         79858 non-null  int64  \n",
            " 4   Crop_Damage               79858 non-null  int64  \n",
            " 5   Crop_Type_0               79858 non-null  uint8  \n",
            " 6   Crop_Type_1               79858 non-null  uint8  \n",
            " 7   Soil_Type_0               79858 non-null  uint8  \n",
            " 8   Soil_Type_1               79858 non-null  uint8  \n",
            " 9   Pesticide_Use_Category_1  79858 non-null  uint8  \n",
            " 10  Pesticide_Use_Category_2  79858 non-null  uint8  \n",
            " 11  Pesticide_Use_Category_3  79858 non-null  uint8  \n",
            " 12  Season_1                  79858 non-null  uint8  \n",
            " 13  Season_2                  79858 non-null  uint8  \n",
            " 14  Season_3                  79858 non-null  uint8  \n",
            "dtypes: float64(1), int64(4), uint8(10)\n",
            "memory usage: 4.4 MB\n"
          ],
          "name": "stdout"
        }
      ]
    },
    {
      "cell_type": "markdown",
      "metadata": {
        "id": "_fHqFSvWe94c"
      },
      "source": [
        "## Valeu!"
      ]
    },
    {
      "cell_type": "markdown",
      "metadata": {
        "id": "_zM3cTnw8LX3"
      },
      "source": [
        "\n",
        "\n",
        "\n",
        "\n",
        "\n",
        "\n",
        "\n",
        "![](https://i.gifer.com/27cV.gif)"
      ]
    },
    {
      "cell_type": "code",
      "metadata": {
        "id": "VTK7ERTO8LrR"
      },
      "source": [
        ""
      ],
      "execution_count": null,
      "outputs": []
    }
  ]
}